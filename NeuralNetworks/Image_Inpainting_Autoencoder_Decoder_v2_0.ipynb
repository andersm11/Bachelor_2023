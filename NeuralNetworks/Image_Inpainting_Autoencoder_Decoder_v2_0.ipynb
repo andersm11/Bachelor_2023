{
 "cells": [
  {
   "attachments": {},
   "cell_type": "markdown",
   "metadata": {
    "colab_type": "text",
    "id": "view-in-github"
   },
   "source": [
    "<a href=\"https://colab.research.google.com/github/ayulockin/deepimageinpainting/blob/master/Image_Inpainting_Autoencoder_Decoder_v2_0.ipynb\" target=\"_parent\"><img src=\"https://colab.research.google.com/assets/colab-badge.svg\" alt=\"Open In Colab\"/></a>"
   ]
  },
  {
   "attachments": {},
   "cell_type": "markdown",
   "metadata": {
    "colab_type": "text",
    "id": "7KlcVNbe29Ez"
   },
   "source": [
    "# Setups, Installations and Imports"
   ]
  },
  {
   "cell_type": "code",
   "execution_count": null,
   "metadata": {},
   "outputs": [],
   "source": []
  },
  {
   "cell_type": "code",
   "execution_count": null,
   "metadata": {
    "colab": {
     "base_uri": "https://localhost:8080/",
     "height": 54
    },
    "colab_type": "code",
    "id": "y85SvPWS37yf",
    "outputId": "c23bc0da-8755-4817-f5a4-0f5a121eae12"
   },
   "outputs": [],
   "source": [
    "import tensorflow as tf\n",
    "print(tf.__version__)\n",
    "from tensorflow import keras\n",
    "\n",
    "print('[INFO]', tf.config.experimental.list_physical_devices('GPU')[0])"
   ]
  },
  {
   "cell_type": "code",
   "execution_count": null,
   "metadata": {
    "colab": {
     "base_uri": "https://localhost:8080/",
     "height": 108
    },
    "colab_type": "code",
    "id": "jzwe3nyh3Iox",
    "outputId": "e180be6a-9d8c-42c7-ee08-c8b071031e8b"
   },
   "outputs": [],
   "source": [
    "import wandb\n",
    "from wandb.keras import WandbCallback\n",
    "\n",
    "wandb.login()"
   ]
  },
  {
   "cell_type": "code",
   "execution_count": null,
   "metadata": {
    "colab": {},
    "colab_type": "code",
    "id": "sd8ViDQz4-az"
   },
   "outputs": [],
   "source": [
    "import os\n",
    "import cv2\n",
    "import numpy as np\n",
    "\n",
    "\n",
    "import matplotlib.pyplot as plt\n",
    "plt.gray()\n",
    "%matplotlib inline\n",
    "\n",
    "from mpl_toolkits.axes_grid1 import ImageGrid"
   ]
  },
  {
   "attachments": {},
   "cell_type": "markdown",
   "metadata": {
    "colab_type": "text",
    "id": "kKgylid25AZf"
   },
   "source": [
    "# Prepare Dataset"
   ]
  },
  {
   "cell_type": "code",
   "execution_count": null,
   "metadata": {
    "colab": {
     "base_uri": "https://localhost:8080/",
     "height": 109
    },
    "colab_type": "code",
    "id": "7QXxse9j5QgT",
    "outputId": "4aef5468-a4ca-412b-8502-373a168cc00a"
   },
   "outputs": [],
   "source": [
    "data = np.load(\"nn_dataset_400x400x6_random_200k.npy\")\n",
    "\n",
    "x_test  = data[0][160000:,:]\n",
    "x_train = data[0][:160000,:]\n",
    "y_test  = data[1][160000:,:]\n",
    "y_train = data[1][:160000,:]\n",
    "\n",
    "print('x_train shape:', x_train.shape)\n",
    "print(x_train.shape[0], 'train samples')\n",
    "print(x_test.shape[0], 'test samples')\n",
    "print(y_train.shape[0], 'actual train samples')\n",
    "print(y_test.shape[0], 'actual test samples')"
   ]
  },
  {
   "attachments": {},
   "cell_type": "markdown",
   "metadata": {
    "colab_type": "text",
    "id": "RUXXvOEv5IGo"
   },
   "source": [
    "#### Visualization of Cifar 10"
   ]
  },
  {
   "cell_type": "code",
   "execution_count": null,
   "metadata": {
    "colab": {
     "base_uri": "https://localhost:8080/",
     "height": 499
    },
    "colab_type": "code",
    "id": "-MlpaK7o7qWN",
    "outputId": "5618e53e-b055-488f-c7af-3f238fac8cb6"
   },
   "outputs": [],
   "source": [
    "## Get first 32 images as samples\n",
    "sample_images = x_train[:32]\n",
    "sample_labels = [\"1\",\"2\",\"3\",\"4\",\"5\",\"6\",\"7\",\"8\",\"9\",\"10\",\"11\",\"12\",\"13\",\"14\",\"15\",\"16\",\"17\",\"18\",\"19\",\"20\",\"21\",\"22\",\"23\",\"24\",\"17\",\"18\",\"19\",\"20\",\"21\",\"22\",\"23\",\"24\"]\n",
    "\n",
    "fig = plt.figure(figsize=(16., 8.))\n",
    "grid = ImageGrid(fig, 111,\n",
    "                 nrows_ncols=(4, 8),  \n",
    "                 axes_pad=0.3,  # pad between axes in inch.\n",
    "                 )\n",
    "\n",
    "for ax, image, label in zip(grid, sample_images, sample_labels):\n",
    "  ax.imshow(image.astype(np.uint8))\n",
    "  ax.set_title(label[0])\n",
    "\n",
    "plt.show()"
   ]
  },
  {
   "attachments": {},
   "cell_type": "markdown",
   "metadata": {
    "colab_type": "text",
    "id": "i_ZOEa8X4XBx"
   },
   "source": [
    "#### Data Generator with Patch Augmentation"
   ]
  },
  {
   "cell_type": "code",
   "execution_count": null,
   "metadata": {
    "colab": {},
    "colab_type": "code",
    "id": "kXeGgrfHmtHP"
   },
   "outputs": [],
   "source": [
    "## Ref: https://stanford.edu/~shervine/blog/keras-how-to-generate-data-on-the-fly.\n",
    "class createAugment(keras.utils.Sequence):\n",
    "  'Generates data for Keras'\n",
    "  def __init__(self, X, y, batch_size=32, dim=(32, 32), n_channels=1, shuffle=True):\n",
    "      'Initialization'\n",
    "      self.batch_size = batch_size \n",
    "      self.X = X \n",
    "      self.y = y\n",
    "      self.dim = dim\n",
    "      self.n_channels = n_channels\n",
    "      self.shuffle = shuffle\n",
    "      \n",
    "      self.on_epoch_end()\n",
    "  def __len__(self):\n",
    "      'Denotes the number of batches per epoch'\n",
    "      return int(np.floor(len(self.X) / self.batch_size))\n",
    "\n",
    "  def __getitem__(self, index):\n",
    "      'Generate one batch of data'\n",
    "      # Generate indexes of the batch\n",
    "      indexes = self.indexes[index*self.batch_size:(index+1)*self.batch_size]\n",
    "\n",
    "      # Generate data\n",
    "      return self.__data_generation(indexes)\n",
    "\n",
    "  def on_epoch_end(self):\n",
    "      'Updates indexes after each epoch'\n",
    "      self.indexes = np.arange(len(self.X))\n",
    "      if self.shuffle:\n",
    "          np.random.shuffle(self.indexes)\n",
    "\n",
    "  def __data_generation(self, idxs):\n",
    "    # X_batch is a matrix of masked images used as input\n",
    "    X_batch = np.empty((self.batch_size, self.dim[0], self.dim[1], self.n_channels)) # Masked image\n",
    "    # y_batch is a matrix of original images used for computing error from reconstructed image\n",
    "    y_batch = np.empty((self.batch_size, self.dim[0], self.dim[1], self.n_channels)) # Original image\n",
    "\n",
    "    ## Iterate through random indexes\n",
    "    for i, idx in enumerate(idxs):\n",
    "      \n",
    "      X_batch[i,] = self.X[idx]/255\n",
    "      y_batch[i] = self.y[idx]/255\n",
    "      \n",
    "    return X_batch, y_batch"
   ]
  },
  {
   "cell_type": "code",
   "execution_count": null,
   "metadata": {
    "colab": {},
    "colab_type": "code",
    "id": "jdLSfboho0Sw"
   },
   "outputs": [],
   "source": [
    "## Prepare training and testing mask-image pair generator\n",
    "traingen = createAugment(x_train, y_train)\n",
    "testgen = createAugment(x_test, y_test, shuffle=False)"
   ]
  },
  {
   "cell_type": "code",
   "execution_count": null,
   "metadata": {
    "colab": {
     "base_uri": "https://localhost:8080/",
     "height": 485
    },
    "colab_type": "code",
    "id": "rXD1vfqisJKO",
    "outputId": "88f39ad1-636a-49f2-9316-557b50bdc588",
    "scrolled": true
   },
   "outputs": [],
   "source": [
    "## Examples\n",
    "sample_idx = 90 ## Change this to see different batches\n",
    "\n",
    "sample_masks, sample_labels = traingen[sample_idx]\n",
    "sample_images = [None]*(len(sample_masks)+len(sample_labels))\n",
    "sample_images[::2] = sample_labels\n",
    "sample_images[1::2] = sample_masks\n",
    "\n",
    "fig = plt.figure(figsize=(16., 8.))\n",
    "grid = ImageGrid(fig, 111,  # similar to subplot(111)\n",
    "                 nrows_ncols=(4, 8),  # creates 2x2 grid of axes\n",
    "                 axes_pad=0.3,  # pad between axes in inch.\n",
    "                 )\n",
    "\n",
    "for ax, image in zip(grid, sample_images):\n",
    "  ax.imshow(image)\n",
    "\n",
    "plt.show()"
   ]
  },
  {
   "attachments": {},
   "cell_type": "markdown",
   "metadata": {
    "colab_type": "text",
    "id": "4ZV1122baC4a"
   },
   "source": [
    "## Autoencoder-Decoder Model"
   ]
  },
  {
   "cell_type": "code",
   "execution_count": null,
   "metadata": {
    "colab": {},
    "colab_type": "code",
    "id": "f5aLz3OFgPkm"
   },
   "outputs": [],
   "source": [
    "## For more information into formulation: https://www.youtube.com/watch?v=AZr64OxshLo\n",
    "## Metric\n",
    "def dice_coef(y_true, y_pred):\n",
    "    y_true_f = keras.backend.flatten(y_true)\n",
    "    y_pred_f = keras.backend.flatten(y_pred)\n",
    "    intersection = keras.backend.sum(y_true_f * y_pred_f)\n",
    "    return (2. * intersection) / (keras.backend.sum(y_true_f + y_pred_f))"
   ]
  },
  {
   "cell_type": "code",
   "execution_count": null,
   "metadata": {
    "colab": {},
    "colab_type": "code",
    "id": "lPA7heLiZHY0"
   },
   "outputs": [],
   "source": [
    "# Code is based on:\n",
    "#   https://github.com/ayulockin/deepimageinpainting.git\n",
    "class inpaintingModel:\n",
    "  '''\n",
    "  Build model for image inpaining task.\n",
    "  '''\n",
    "  def prepare_model(self, input_size=(32,32,1)):\n",
    "    inputs = keras.layers.Input(input_size)\n",
    "\n",
    "    conv1, pool1 = self.__ConvBlock(32, (3,3), (2,2), 'relu', 'same', inputs) \n",
    "    conv2, pool2 = self.__ConvBlock(64, (3,3), (2,2), 'relu', 'same', pool1)\n",
    "    conv3, pool3 = self.__ConvBlock(128, (3,3), (2,2), 'relu', 'same', pool2) \n",
    "    #conv4, pool4 = self.__ConvBlock(256, (3,3), (2,2), 'relu', 'same', pool3) \n",
    "    \n",
    "    #conv5, up6 = self.__UpConvBlock(512, 256, (3,3), (2,2), (2,2), 'relu', 'same', pool4, conv4)\n",
    "    conv6, up7 = self.__UpConvBlock(256, 128, (3,3), (2,2), (2,2), 'relu', 'same', pool3, conv3)\n",
    "    conv7, up8 = self.__UpConvBlock(128, 64, (3,3), (2,2), (2,2), 'relu', 'same', up7, conv2)\n",
    "    conv8, up9 = self.__UpConvBlock(64, 32, (3,3), (2,2), (2,2), 'relu', 'same', up8, conv1)\n",
    "    \n",
    "    conv9 = self.__ConvBlock(32, (3,3), (2,2), 'relu', 'same', up9, False)\n",
    "    \n",
    "    outputs = keras.layers.Conv2D(1, (3, 3), activation='sigmoid', padding='same')(conv9)\n",
    "\n",
    "    return keras.models.Model(inputs=[inputs], outputs=[outputs])  \n",
    "\n",
    "  def __ConvBlock(self, filters, kernel_size, pool_size, activation, padding, connecting_layer, pool_layer=True):\n",
    "    conv = keras.layers.Conv2D(filters=filters, kernel_size=kernel_size, activation=activation, padding=padding)(connecting_layer)\n",
    "    conv = keras.layers.Conv2D(filters=filters, kernel_size=kernel_size, activation=activation, padding=padding)(conv)\n",
    "    if pool_layer:\n",
    "      pool = keras.layers.MaxPooling2D(pool_size)(conv)\n",
    "      return conv, pool\n",
    "    else:\n",
    "      return conv\n",
    "\n",
    "  def __UpConvBlock(self, filters, up_filters, kernel_size, up_kernel, up_stride, activation, padding, connecting_layer, shared_layer):\n",
    "    conv = keras.layers.Conv2D(filters=filters, kernel_size=kernel_size, activation=activation, padding=padding)(connecting_layer)\n",
    "    conv = keras.layers.Conv2D(filters=filters, kernel_size=kernel_size, activation=activation, padding=padding)(conv)\n",
    "    up = keras.layers.Conv2DTranspose(filters=up_filters, kernel_size=up_kernel, strides=up_stride, padding=padding)(conv)\n",
    "    up = keras.layers.concatenate([up, shared_layer], axis=3)\n",
    "\n",
    "    return conv, up"
   ]
  },
  {
   "cell_type": "code",
   "execution_count": null,
   "metadata": {
    "colab": {
     "base_uri": "https://localhost:8080/",
     "height": 1000
    },
    "colab_type": "code",
    "id": "lnMiuRBMbVP1",
    "outputId": "1164f0a1-f55e-4e26-cfc8-3a296400f64d"
   },
   "outputs": [],
   "source": [
    "keras.backend.clear_session()\n",
    "model = inpaintingModel().prepare_model()\n",
    "model.compile(optimizer='adam', loss='mean_absolute_error', metrics=[dice_coef])\n"
   ]
  },
  {
   "attachments": {},
   "cell_type": "markdown",
   "metadata": {
    "colab_type": "text",
    "id": "d-0ydDC45lqp"
   },
   "source": [
    "# Train"
   ]
  },
  {
   "cell_type": "code",
   "execution_count": null,
   "metadata": {
    "colab": {
     "base_uri": "https://localhost:8080/",
     "height": 87
    },
    "colab_type": "code",
    "id": "l5bsNk915owk",
    "outputId": "824bde8a-4bee-4f80-9888-7d932e0cc966"
   },
   "outputs": [],
   "source": [
    "\n",
    "#wandb.init(entity='christianhlohman', project=\"image-impainting\")"
   ]
  },
  {
   "cell_type": "code",
   "execution_count": null,
   "metadata": {
    "colab": {},
    "colab_type": "code",
    "id": "WDcXxpi3HW9d"
   },
   "outputs": [],
   "source": [
    "class PredictionLogger(tf.keras.callbacks.Callback):\n",
    "    def __init__(self):\n",
    "        super(PredictionLogger, self).__init__()\n",
    "\n",
    "    def on_epoch_end(self, logs, epoch):\n",
    "        sample_idx = 54\n",
    "        \n",
    "        sample_images, sample_labels = testgen[sample_idx]  \n",
    "        \n",
    "        images = []\n",
    "        labels = []\n",
    "        predictions = []\n",
    "        \n",
    "        for i in range(32):\n",
    "            inpainted_image = self.model.predict(np.expand_dims(sample_images[i], axis=0))\n",
    "\n",
    "            images.append(sample_images[i])\n",
    "            labels.append(sample_labels[i])\n",
    "            predictions.append(inpainted_image.reshape(inpainted_image.shape[1:]))\n",
    "\n",
    "        wandb.log({\"images\": [wandb.Image(image)\n",
    "                              for image in images]})\n",
    "        wandb.log({\"labels\": [wandb.Image(label)\n",
    "                              for label in labels]})\n",
    "        wandb.log({\"predictions\": [wandb.Image(inpainted_image)\n",
    "                              for inpainted_image in predictions]})"
   ]
  },
  {
   "cell_type": "code",
   "execution_count": null,
   "metadata": {
    "colab": {
     "base_uri": "https://localhost:8080/",
     "height": 808
    },
    "colab_type": "code",
    "id": "-Fs2unJagj0h",
    "outputId": "e0f0f790-6be5-41b2-daae-d6355e522a86"
   },
   "outputs": [],
   "source": [
    "_ = model.fit(traingen, \n",
    "          validation_data=testgen, \n",
    "          epochs=6, \n",
    "          steps_per_epoch=len(traingen), \n",
    "          validation_steps=len(testgen),\n",
    "          use_multiprocessing=False,\n",
    "          callbacks=[WandbCallback(),\n",
    "                     PredictionLogger()])\n",
    "                     \n",
    "                    "
   ]
  },
  {
   "attachments": {},
   "cell_type": "markdown",
   "metadata": {
    "colab_type": "text",
    "id": "TOSNwA4fGVpI"
   },
   "source": [
    "# Testing on images"
   ]
  },
  {
   "attachments": {},
   "cell_type": "markdown",
   "metadata": {},
   "source": [
    "Creating new dataset, for complemete noise reduction: "
   ]
  },
  {
   "cell_type": "code",
   "execution_count": null,
   "metadata": {},
   "outputs": [],
   "source": [
    "def contains(lst, n):\n",
    "    for elem in lst:\n",
    "        if(elem == n):\n",
    "            return True\n",
    "    return False\n",
    "\n",
    "def set_rows_zero(patch, rows):\n",
    "    for i in range(len(patch[0])):\n",
    "        if(contains(rows, i)):\n",
    "            for k in range(len(patch[0][0])):\n",
    "                patch[0][i][k][0] = 0\n",
    "    return 1\n",
    "\n",
    "def get_removed_rows(patch):\n",
    "    lst = []\n",
    "    c=0\n",
    "    for row in patch:\n",
    "        if row[0][0] != 0:\n",
    "            lst.append(c)\n",
    "        c=c+1\n",
    "    return lst\n",
    "\n",
    "def convolution(x, i, j):    \n",
    "    if  (i==0 and j==0):\n",
    "        return x[0,i+1,j,0]*1/2 + x[0,i+1,j+1,0]*1/2\n",
    "    elif(i == 31 and j == 31):\n",
    "        return x[0,i-1,j,0]*1/2 + x[0,i-1,j-1,0]*1/2\n",
    "    elif(i == 31 and j == 0):\n",
    "        return x[0,i-1,j,0]*1/2 + x[0,i-1,j+1,0]*1/2\n",
    "    elif(i == 0 and j == 31):\n",
    "        return x[0,i+1,j,0]*1/2 + x[0,i+1,j-1,0]*1/2\n",
    "    elif(i==0):\n",
    "        return x[0,i+1,j,0]*1/3 + x[0,i+1,j-1,0]*1/3 + x[0,i+1,j+1,0]*1/3\n",
    "    elif(j==0):\n",
    "        return x[0,i-1,j,0]*1/3 + x[0,i+1,j,0]*1/3 + x[0,i-1,j+1,0]*1/6 + x[0,i+1,j+1,0]*1/6\n",
    "    elif(i == 31):\n",
    "        return x[0,i-1,j,0]*1/3 + x[0,i-1,j+1,0]*1/3 + x[0,i-1,j-1,0]*1/3\n",
    "    elif(j == 31):\n",
    "        return x[0,i-1,j,0]*1/3 + x[0,i+1,j,0]*1/3 + x[0,i+1,j-1,0]*1/6 + x[0,i-1,j-1,0]*1/6\n",
    "    else:\n",
    "        return x[0,i-1,j,0]*1/6 + x[0,i+1,j,0]*1/6 + x[0,i+1,j-1,0]*1/6 + x[0,i-1,j+1,0]*1/6 + x[0,i+1,j+1,0]*1/6 + x[0,i-1,j-1,0]*1/6\n",
    "\n",
    "def convulotion_at_0(input):\n",
    "    x = np.ndarray.copy(input)\n",
    "    for i in range(len(x[0])):\n",
    "        for j in range(len(x[0][i])):\n",
    "            if(x[0][i][j][0] == 0):\n",
    "                x[0][i][j][0] = convolution(x,i,j)\n",
    "    return x\n",
    "\n",
    "\n",
    "def smooth(org, impainted_image):\n",
    "    new = np.ndarray.copy(impainted_image)\n",
    "    remove = np.ndarray.copy(new)\n",
    "    not_removed = get_removed_rows(org)\n",
    "    set_rows_zero(remove, not_removed)\n",
    "    smooth = convulotion_at_0(remove)\n",
    "    return remove, smooth\n",
    "\n",
    "\n",
    "## Examples\n",
    "rows = 32\n",
    "sample_idx = 50\n",
    "sample_images, sample_labels = testgen[sample_idx]\n",
    "\n",
    "fig, axs = plt.subplots(nrows=rows, ncols=4, figsize=(8, 2*rows))\n",
    "\n",
    "for i in range(32):\n",
    "    impainted_image = model.predict(sample_images[i].reshape((1,)+sample_images[i].shape))\n",
    "    removed, smooth_image = smooth(sample_images[i],impainted_image)\n",
    "\n",
    "    axs[i][0].imshow(sample_labels[i])\n",
    "    axs[i][1].imshow(sample_images[i])\n",
    "    axs[i][2].imshow(impainted_image.reshape(impainted_image.shape[1:]))\n",
    "    axs[i][3].imshow(smooth_image.reshape(smooth_image.shape[1:]))\n",
    "\n",
    "plt.show()"
   ]
  },
  {
   "attachments": {},
   "cell_type": "markdown",
   "metadata": {},
   "source": [
    "Recreate full image"
   ]
  },
  {
   "cell_type": "code",
   "execution_count": null,
   "metadata": {},
   "outputs": [],
   "source": [
    "## Examples\n",
    "rows = 32\n",
    "sample_idx = 54\n",
    "sample_images, sample_labels = testgen[sample_idx]\n",
    "\n",
    "fig, axs = plt.subplots(nrows=rows, ncols=4, figsize=(8, 2*rows))\n",
    "\n",
    "for i in range(32):\n",
    "  impainted_image = model.predict(sample_images[i].reshape((1,)+sample_images[i].shape))\n",
    "  smooth_image = smooth(impainted_image)\n",
    "  \n",
    "  axs[i][0].imshow(sample_labels[i])\n",
    "  axs[i][1].imshow(sample_images[i])\n",
    "  axs[i][2].imshow(impainted_image.reshape(impainted_image.shape[1:]))\n",
    "  axs[i][3].imshow(impainted_image.reshape(impainted_image.shape[1:]))\n",
    "\n",
    "plt.show()"
   ]
  },
  {
   "cell_type": "code",
   "execution_count": null,
   "metadata": {},
   "outputs": [],
   "source": [
    "def convolution(x, i, j):\n",
    "    I = len(x)-1\n",
    "    J = len(x[0])-1\n",
    "    if  (i==0 and j==0):\n",
    "        return x[i+1,j]*1/2 + x[i+1,j+1]*1/2\n",
    "    elif(i == I and j == J):\n",
    "        return x[i-1,j]*1/2 + x[i-1,j-1]*1/2\n",
    "    elif(i == I and j == 0):\n",
    "        return x[i-1,j]*1/2 + x[i-1,j+1]*1/2\n",
    "    elif(i == 0 and j == J):\n",
    "        return x[i+1,j]*1/2 + x[i+1,j-1]*1/2\n",
    "    elif(i==0):\n",
    "        return x[i+1,j]*1/3 + x[i+1,j-1]*1/3 + x[i+1,j+1]*1/3\n",
    "    elif(j==0):\n",
    "        return x[i-1,j]*1/3 + x[i+1,j]*1/3 + x[i-1,j+1]*1/6 + x[i+1,j+1]*1/6\n",
    "    elif(i == I):\n",
    "        return x[i-1,j]*1/3 + x[i-1,j+1]*1/3 + x[i-1,j-1]*1/3\n",
    "    elif(j == J):\n",
    "        return x[i-1,j]*1/3 + x[i+1,j]*1/3 + x[i+1,j-1]*1/6 + x[i-1,j-1]*1/6\n",
    "    else:\n",
    "        return x[i-1,j]*1/6 + x[i+1,j]*1/6 + x[i+1,j-1]*1/6 + x[i-1,j+1]*1/6 + x[i+1,j+1]*1/6 + x[i-1,j-1]*1/6\n",
    "    \n",
    "\n",
    "\n",
    "def convolve_nth(x, nth, first):\n",
    "    for i in range(len(x)):\n",
    "        for j in range(len(x[0])):\n",
    "            if((i-first)%nth == 0):\n",
    "                x[i,j] = convolution(x, i, j)\n",
    "    return x\n"
   ]
  },
  {
   "cell_type": "code",
   "execution_count": null,
   "metadata": {},
   "outputs": [],
   "source": [
    "from PIL import Image\n",
    "from skimage import io\n",
    "from tifffile import imwrite\n",
    "\n",
    "\n",
    "X = np.load(\"C:\\\\Users\\\\Blomst\\\\z\\\\1\\\\797.npy\")\n",
    "\n",
    "def formatter(patch):\n",
    "    x,y = patch.shape\n",
    "    new = np.ndarray((x,y,1))\n",
    "    for i in range(len(patch)):\n",
    "        for j in range(len(patch[i])):\n",
    "            number = patch[i][j]\n",
    "            new[i][j] = number\n",
    "    return new\n",
    "\n",
    "\n",
    "\n",
    "sperm_path ='sperm_0p2_70hz_6t_00064.BTF'    # Dataset 1 - 400x400x6\n",
    "sperm_path2 ='sperm_0p2_40hz_12t_00068.BTF'  # Dataset 0 - 348x348x12\n",
    "\n",
    "def find_min_and_max(data):\n",
    "    vector = data.reshape(-1)\n",
    "    min=255\n",
    "    max=0\n",
    "    for elem in vector:\n",
    "        if(min > elem): min = elem\n",
    "        if(max < elem): max = elem\n",
    "    return (min, max)\n",
    "\n",
    "def predection_to_image(prediction):\n",
    "    _, x,y,_ = prediction.shape\n",
    "    new = np.ndarray((x,y))\n",
    "    for i in range(x):\n",
    "        for j in range(y):\n",
    "            new[i,j] = prediction[0,i,j,0]\n",
    "    return new\n",
    "\n",
    "\n",
    "window_size = 32\n",
    "\n",
    "\n",
    "results = []\n",
    "for time in range(len(X)):\n",
    "    \n",
    "    Z = X[time]\n",
    "    result = []\n",
    "    for layer in range(len(Z)):\n",
    "\n",
    "        one  = time*layer+layer\n",
    "        two  = len(Z)*len(X)\n",
    "        print(one, \"/\" , two )\n",
    "        full = formatter(Z[layer])\n",
    "        w,h, _ = full.shape\n",
    "        #print(w,\",\",h)  \n",
    "        reconstruction = np.zeros((w,h))\n",
    "        count = 0\n",
    "        for i in range(0,w-window_size+1):\n",
    "            #print(count,\"/\", w-window_size+1)\n",
    "            count = count + 1\n",
    "            for j in range(0,h-window_size+1):\n",
    "                if(not(j <= 3 or j >= h-window_size)):\n",
    "                    if(not(i <= 3 or i >= w-window_size)):\n",
    "                        if(not(i % 4 == 0)):\n",
    "                            continue\n",
    "                        if(not(j % 4 == 0)):\n",
    "                            continue\n",
    "                patch = full[i:i + window_size, j:j + window_size]/255 \n",
    "                impainting = model.predict(patch.reshape((1,)+patch.shape))\n",
    "                image = predection_to_image(impainting)\n",
    "                if(i == 0 and j==0):                            reconstruction[:16, :16] = image[:16, :16]\n",
    "                elif(i == w-window_size and j==h-window_size):  reconstruction[i+15:, j+15:] = image[15:,15:]\n",
    "                elif(i == w-window_size and j==0):              reconstruction[i+15:, :16] = image[15:,:16]\n",
    "                elif(i == 0 and j==h-window_size):              reconstruction[:16, j+15:] = image[:16, 15:]\n",
    "                elif(i==w-window_size):                         reconstruction[i+15:, j+15] = image[15:,15]\n",
    "                elif(j==h-window_size):                         reconstruction[i+15, j+15:] = image[15,15:]\n",
    "                elif(i==0):                                     reconstruction[:16, j+15] = image[:16,15]\n",
    "                elif(j==0):                                     reconstruction[i+15, :16] = image[15,:16]\n",
    "                else:                                           reconstruction[i+15:i+19, j+15:j+19]  = image[15:19,15:19]\n",
    "\n",
    "        smooth = convolve_nth(reconstruction*255, 4, 1)\n",
    "        img2 = Image.fromarray(smooth)\n",
    "        img2 = img2.convert('RGB')\n",
    "\n",
    "        path = \"\\\\\" + str(time) + \"_\" + str(layer) + \".png\"\n",
    "        img2.save(path)\n",
    "        result.append(smooth)\n",
    "    results.append(result)\n",
    "    print(np.shape(results))\n",
    "\n",
    "out = np.array(results)\n",
    "\n",
    "np.save(\"400x400.npy\", out)\n",
    "imwrite('400x400.tif', out, imagej=True)\n",
    "\n",
    "\n",
    "for image in result:\n",
    "    img2 = Image.fromarray(image)\n",
    "    img2 = img2.convert('RGB')\n",
    "    img2.show(\"reconstruction.png\")"
   ]
  },
  {
   "cell_type": "code",
   "execution_count": null,
   "metadata": {},
   "outputs": [],
   "source": [
    "def convolution(x, i, j):\n",
    "    I = len(x)-1\n",
    "    J = len(x[0])-1\n",
    "    if  (i==0 and j==0):\n",
    "        return x[i+1,j]*1/2 + x[i+1,j+1]*1/2\n",
    "    elif(i == I and j == J):\n",
    "        return x[i-1,j]*1/2 + x[i-1,j-1]*1/2\n",
    "    elif(i == I and j == 0):\n",
    "        return x[i-1,j]*1/2 + x[i-1,j+1]*1/2\n",
    "    elif(i == 0 and j == J):\n",
    "        return x[i+1,j]*1/2 + x[i+1,j-1]*1/2\n",
    "    elif(i==0):\n",
    "        return x[i+1,j]*1/3 + x[i+1,j-1]*1/3 + x[i+1,j+1]*1/3\n",
    "    elif(j==0):\n",
    "        return x[i-1,j]*1/3 + x[i+1,j]*1/3 + x[i-1,j+1]*1/6 + x[i+1,j+1]*1/6\n",
    "    elif(i == I):\n",
    "        return x[i-1,j]*1/3 + x[i-1,j+1]*1/3 + x[i-1,j-1]*1/3\n",
    "    elif(j == J):\n",
    "        return x[i-1,j]*1/3 + x[i+1,j]*1/3 + x[i+1,j-1]*1/6 + x[i-1,j-1]*1/6\n",
    "    else:\n",
    "        return x[i-1,j]*1/6 + x[i+1,j]*1/6 + x[i+1,j-1]*1/6 + x[i-1,j+1]*1/6 + x[i+1,j+1]*1/6 + x[i-1,j-1]*1/6\n",
    "    \n",
    "\n",
    "recon = io.imread('reconstruction.png', as_gray=True)\n",
    "\n",
    "print(recon.shape)\n",
    "\n",
    "\n",
    "def convolve_nth(x, nth, first):\n",
    "    for i in range(len(x)):\n",
    "        for j in range(len(x[0])):\n",
    "            if((i-first)%nth == 0):\n",
    "                x[i,j] = convolution(x, i, j)\n",
    "    return x\n"
   ]
  },
  {
   "cell_type": "code",
   "execution_count": null,
   "metadata": {},
   "outputs": [],
   "source": [
    "print(model.layers[1].trainable_weights)\n",
    "\n",
    "\n",
    "images = np.array(model.layers[2].trainable_weights[0])\n",
    "for i in range(len(images)):\n",
    "    for j in range(len(images[0])):\n",
    "        new = images[i][j]* 255\n",
    "        img = Image.fromarray(new)\n",
    "        img = img.convert('RGB')\n",
    "\n"
   ]
  }
 ],
 "metadata": {
  "accelerator": "GPU",
  "colab": {
   "authorship_tag": "ABX9TyMCgyWoyXdUA2mvaFtyGQAr",
   "collapsed_sections": [],
   "include_colab_link": true,
   "name": "Image Inpainting Autoencoder-Decoder v2.0",
   "provenance": []
  },
  "kernelspec": {
   "display_name": "Python 3 (ipykernel)",
   "language": "python",
   "name": "python3"
  },
  "language_info": {
   "codemirror_mode": {
    "name": "ipython",
    "version": 3
   },
   "file_extension": ".py",
   "mimetype": "text/x-python",
   "name": "python",
   "nbconvert_exporter": "python",
   "pygments_lexer": "ipython3",
   "version": "3.9.16"
  }
 },
 "nbformat": 4,
 "nbformat_minor": 1
}
