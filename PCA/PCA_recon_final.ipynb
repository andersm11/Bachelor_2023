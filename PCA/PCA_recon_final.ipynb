{
 "cells": [
  {
   "cell_type": "code",
   "execution_count": null,
   "metadata": {},
   "outputs": [],
   "source": [
    "import patch_manager as pmang\n",
    "from reconstructor import Reconstructor\n",
    "from skimage import io\n",
    "import numpy as np\n",
    "recon = Reconstructor()\n",
    "\n",
    "sperm_path2 = 'C:\\\\Users\\\\Blomst\\\\sperm_0p2_40hz_12t_00068.BTF'\n",
    "X = io.imread(sperm_path2)\n",
    "\n",
    "\n",
    "test_image = \"c:\\\\users\\\\blomst\\\\groundtruth\\\\87\\\\5.png\"\n",
    "\n",
    "#img = io.imread(test_image, as_gray=True)*255\n",
    "#pmang.show_patch_as_image(img, \"lol\")"
   ]
  },
  {
   "cell_type": "code",
   "execution_count": null,
   "metadata": {},
   "outputs": [],
   "source": [
    "img = io.imread(test_image, as_gray=True)*255\n",
    "\n",
    "\n",
    "\n",
    "window_size = 128\n",
    "patches_pr_layer = 15\n",
    "total_patches = 4096\n",
    "\n",
    "res1 = []\n",
    "res2 = []\n",
    "for window_size in range(6,50):\n",
    "    print(window_size)\n",
    "    \n",
    "    total_patches = 10*window_size*window_size\n",
    "    patches_pr_layer = int(total_patches/800 + 10)\n",
    "    rs = pmang.random_coordinates_all(X,patches_pr_layer,window_size, max=total_patches)\n",
    "    patches = pmang.get_patches(X, rs, window_size)\n",
    "    recon.get_pca(patches)\n",
    "    res1.append([window_size, recon.n_var])\n",
    "    res2.append([window_size*window_size, recon.n_var])\n",
    "    #print(total_patches, \",\", recon.n_var)"
   ]
  },
  {
   "cell_type": "code",
   "execution_count": null,
   "metadata": {},
   "outputs": [],
   "source": [
    "import matplotlib.pyplot as plt\n",
    "def plot_points(points,x_label):\n",
    "    x = [point[0] for point in points]\n",
    "    y = [point[1] for point in points]\n",
    "    plt.scatter(x, y)\n",
    "    plt.xlabel(x_label)\n",
    "    plt.ylabel('Components for 95% variance')\n",
    "    plt.show()\n",
    "\n",
    "plot_points(res1, \"patch side length\")\n",
    "plot_points(res2, \"patch pixel count\")"
   ]
  },
  {
   "cell_type": "code",
   "execution_count": null,
   "metadata": {},
   "outputs": [],
   "source": [
    "recon.get_pca(patches)"
   ]
  },
  {
   "cell_type": "code",
   "execution_count": null,
   "metadata": {},
   "outputs": [],
   "source": [
    "reconstruction = recon.reconstruct_image(img, 300, window_size, 4)\n",
    "pmang.save_patch_as_image(reconstruction, \"recon_test.png\")"
   ]
  },
  {
   "cell_type": "code",
   "execution_count": null,
   "metadata": {},
   "outputs": [],
   "source": [
    "def convolution(x, i, j):\n",
    "    I = len(x)-1\n",
    "    J = len(x[0])-1\n",
    "    if  (i==0 and j==0):\n",
    "        return x[i+1,j]*1/2 + x[i+1,j+1]*1/2\n",
    "    elif(i == I and j == J):\n",
    "        return x[i-1,j]*1/2 + x[i-1,j-1]*1/2\n",
    "    elif(i == I and j == 0):\n",
    "        return x[i-1,j]*1/2 + x[i-1,j+1]*1/2\n",
    "    elif(i == 0 and j == J):\n",
    "        return x[i+1,j]*1/2 + x[i+1,j-1]*1/2\n",
    "    elif(i==0):\n",
    "        return x[i+1,j]*1/3 + x[i+1,j-1]*1/3 + x[i+1,j+1]*1/3\n",
    "    elif(j==0):\n",
    "        return x[i-1,j]*1/3 + x[i+1,j]*1/3 + x[i-1,j+1]*1/6 + x[i+1,j+1]*1/6\n",
    "    elif(i == I):\n",
    "        return x[i-1,j]*1/3 + x[i-1,j+1]*1/3 + x[i-1,j-1]*1/3\n",
    "    elif(j == J):\n",
    "        return x[i-1,j]*1/3 + x[i+1,j]*1/3 + x[i+1,j-1]*1/6 + x[i-1,j-1]*1/6\n",
    "    else:\n",
    "        return x[i-1,j]*1/6 + x[i+1,j]*1/6 + x[i+1,j-1]*1/6 + x[i-1,j+1]*1/6 + x[i+1,j+1]*1/6 + x[i-1,j-1]*1/6\n",
    "    \n",
    "\n",
    "def convolve_nth(x, nth, first):\n",
    "    y = np.copy(x)\n",
    "    for i in range(len(y)):\n",
    "        for j in range(len(y[0])):\n",
    "            if((i-first)%nth == 0):\n",
    "                y[i,j] = convolution(y, i, j)\n",
    "    return y"
   ]
  },
  {
   "cell_type": "code",
   "execution_count": null,
   "metadata": {},
   "outputs": [],
   "source": [
    "recon_file = io.imread(\"recon_test.png\")"
   ]
  },
  {
   "cell_type": "code",
   "execution_count": null,
   "metadata": {},
   "outputs": [],
   "source": [
    "\n",
    "\n",
    "pmang.show_patch_as_image(recon_file, \"y\")\n",
    "\n",
    "yes = convolve_nth(recon_file, 4, 0)\n",
    "\n",
    "pmang.show_patch_as_image(yes, \"y\")\n",
    "pmang.save_patch_as_image(yes, \"recon_convolution.png\")"
   ]
  },
  {
   "cell_type": "code",
   "execution_count": null,
   "metadata": {},
   "outputs": [],
   "source": [
    "def change_range(img):\n",
    "    new_img = np.copy(img)\n",
    "    min = 100\n",
    "    max = 130\n",
    "    new_max = 255\n",
    "    for i in range(len(img)):\n",
    "        for j in range(len(img[0])):\n",
    "            new_number = (img[i][j]-min)/(max - min ) * new_max\n",
    "            new_img[i][j] = new_number\n",
    "    return new_img\n",
    "\n",
    "pmang.show_patch_as_image(change_range(reconstruction), \"yeet\")"
   ]
  },
  {
   "cell_type": "code",
   "execution_count": null,
   "metadata": {},
   "outputs": [],
   "source": [
    "patch = X[87,6,20:148,50:178]\n",
    "patch_full = X[87,6]\n",
    "removed = pmang.remove_row_from_patch(patch, 34, window_size, recon.mu)\n",
    "removed = pmang.remove_row_from_patch(removed, 35, window_size, recon.mu)\n",
    "removed = pmang.remove_row_from_patch(removed, 36, window_size, recon.mu)\n",
    "pmang.save_patch_as_image(patch, \"original.png\")\n",
    "pmang.save_patch_as_image(patch_full, \"original_full.png\")\n",
    "pmang.save_patch_as_image(removed, \"removed3.png\")\n",
    "\n",
    "path1 = \"recon\\\\\"\n",
    "path2 = \"comps_k\\\\\"\n",
    "path3 = \"comps\\\\\"\n",
    "\n",
    "pmang.make_directory(path1)\n",
    "pmang.make_directory(path2)\n",
    "pmang.make_directory(path3)\n",
    "for i in range(4096):\n",
    "    vec1 = recon.reconstruct_patch(removed, i)\n",
    "    vec2 = recon.reconstruct_patch_n1(removed, i)*15 + recon.mu\n",
    "    img1 = pmang.vec_2_patch(vec1,window_size)\n",
    "    img2 = pmang.vec_2_patch(vec2,window_size)\n",
    "\n",
    "    out1 = path1 + str(i) + \".png\"\n",
    "    out2 = path2 + str(i) + \".png\"\n",
    "    pmang.save_patch_as_image(img1,out1) \n",
    "    pmang.save_patch_as_image(img2,out2) "
   ]
  },
  {
   "cell_type": "code",
   "execution_count": null,
   "metadata": {},
   "outputs": [],
   "source": [
    "path3 = \"comps\\\\\"\n",
    "recon.save_principal_components_as_image (15, path3, window_size)\n"
   ]
  },
  {
   "cell_type": "code",
   "execution_count": null,
   "metadata": {},
   "outputs": [],
   "source": [
    "from PIL import Image\n",
    "import os\n",
    "\n",
    "def make_grid(folder_path, output_path):\n",
    "    images = []\n",
    "    for i in range(1024):\n",
    "        filename = str(i) + '.png'\n",
    "        img = Image.open(os.path.join(folder_path, filename))\n",
    "\n",
    "        if(i==recon.n_var):\n",
    "            img = Image.open(os.path.join(folder_path, \"0.png\"))\n",
    "\n",
    "        images.append(img)\n",
    "    width, height = images[0].size\n",
    "    new_im = Image.new('RGB', (32 * width, 32 * height))\n",
    "    x_offset = 0\n",
    "    y_offset = 0\n",
    "    for i in range(32):\n",
    "        for j in range(32):\n",
    "            new_im.paste(images[i*32+j], (x_offset, y_offset))\n",
    "            x_offset += width\n",
    "        y_offset += height\n",
    "        x_offset = 0\n",
    "    new_im.save(output_path)\n",
    "\n",
    "make_grid('comps', 'comps.png')\n",
    "make_grid('comps_k', 'comps_k.png')\n",
    "make_grid('recon', 'recon.png')"
   ]
  },
  {
   "cell_type": "code",
   "execution_count": null,
   "metadata": {},
   "outputs": [],
   "source": [
    "print(recon.n_var)"
   ]
  },
  {
   "cell_type": "code",
   "execution_count": null,
   "metadata": {},
   "outputs": [],
   "source": []
  }
 ],
 "metadata": {
  "kernelspec": {
   "display_name": "base",
   "language": "python",
   "name": "python3"
  },
  "language_info": {
   "codemirror_mode": {
    "name": "ipython",
    "version": 3
   },
   "file_extension": ".py",
   "mimetype": "text/x-python",
   "name": "python",
   "nbconvert_exporter": "python",
   "pygments_lexer": "ipython3",
   "version": "3.9.13"
  },
  "orig_nbformat": 4
 },
 "nbformat": 4,
 "nbformat_minor": 2
}
